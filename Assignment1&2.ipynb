{
  "nbformat": 4,
  "nbformat_minor": 0,
  "metadata": {
    "colab": {
      "provenance": [],
      "authorship_tag": "ABX9TyNgkZgjR3yACSNwdoJ3MNBd",
      "include_colab_link": true
    },
    "kernelspec": {
      "name": "python3",
      "display_name": "Python 3"
    },
    "language_info": {
      "name": "python"
    }
  },
  "cells": [
    {
      "cell_type": "markdown",
      "metadata": {
        "id": "view-in-github",
        "colab_type": "text"
      },
      "source": [
        "<a href=\"https://colab.research.google.com/github/birthou/Python-Programming-Essentials/blob/main/Assignment1%262.ipynb\" target=\"_parent\"><img src=\"https://colab.research.google.com/assets/colab-badge.svg\" alt=\"Open In Colab\"/></a>"
      ]
    },
    {
      "cell_type": "markdown",
      "source": [
        "# Write a program to find those numbers which are divisible by 15 and multiple of 5, between 10 and 150"
      ],
      "metadata": {
        "id": "aY7O76HE-Pha"
      }
    },
    {
      "cell_type": "code",
      "execution_count": 2,
      "metadata": {
        "id": "wcbHpxVpcQdG",
        "colab": {
          "base_uri": "https://localhost:8080/"
        },
        "outputId": "91e0b7d4-eb75-447b-db2c-f9f6f313a450"
      },
      "outputs": [
        {
          "output_type": "stream",
          "name": "stdout",
          "text": [
            "15 is divisible by 15 and multiple of 5.\n",
            "30 is divisible by 15 and multiple of 5.\n",
            "45 is divisible by 15 and multiple of 5.\n",
            "60 is divisible by 15 and multiple of 5.\n",
            "75 is divisible by 15 and multiple of 5.\n",
            "90 is divisible by 15 and multiple of 5.\n",
            "105 is divisible by 15 and multiple of 5.\n",
            "120 is divisible by 15 and multiple of 5.\n",
            "135 is divisible by 15 and multiple of 5.\n",
            "150 is divisible by 15 and multiple of 5.\n"
          ]
        }
      ],
      "source": [
        "# enter the starting and the ending range number\n",
        "starting_number = int(10)\n",
        "ending_number = int(150)\n",
        "  \n",
        "# initialise counter with starting number\n",
        "counter = starting_number\n",
        "  \n",
        "# check until end of the range is achieved\n",
        "while counter <= ending_number:\n",
        "  \n",
        "    # check if number is divisible by 15 and 5\n",
        "    if(counter % 15 == 0):\n",
        "        print(counter, \"is divisible by 15 and multiple of 5.\")\n",
        "  \n",
        "    # incrementing counter\n",
        "    counter += 1"
      ]
    },
    {
      "cell_type": "markdown",
      "source": [
        "# Write a python program to print 100 prime numbers and you should print \"Hey Bro done!\""
      ],
      "metadata": {
        "id": "3Mop6asHDUgZ"
      }
    },
    {
      "cell_type": "markdown",
      "source": [
        "First, we used For Loop to iterate a loop between 1 and 100 values. Within the for loop, we used another For Loop to check whether the number was divisible or not. If true, count incremented, and break statement skip that number."
      ],
      "metadata": {
        "id": "NUN3S8kNr6XB"
      }
    },
    {
      "cell_type": "code",
      "source": [
        "for Number in range (1, 100):\n",
        "    count = 0\n",
        "    for i in range(2, (Number//2 + 1)):\n",
        "        if(Number % i == 0):\n",
        "            count = count + 1\n",
        "            break\n",
        "\n",
        "    if (count == 0 and Number != 1):\n",
        "        print(\" %d\" %Number, end = ' ')\n",
        "        # print(\"\\n\")\n",
        "\n",
        "print (\"Hey Bro done!\")\n",
        "        "
      ],
      "metadata": {
        "colab": {
          "base_uri": "https://localhost:8080/"
        },
        "id": "OW93dkyBDXAm",
        "outputId": "2f15da43-4b6a-4460-bdc9-2feac68faaff"
      },
      "execution_count": 1,
      "outputs": [
        {
          "output_type": "stream",
          "name": "stdout",
          "text": [
            " 2  3  5  7  11  13  17  19  23  29  31  37  41  43  47  53  59  61  67  71  73  79  83  89  97 Hey Bro done!\n"
          ]
        }
      ]
    }
  ]
}
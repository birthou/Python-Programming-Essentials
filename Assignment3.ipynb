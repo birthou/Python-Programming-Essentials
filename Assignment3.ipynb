{
  "nbformat": 4,
  "nbformat_minor": 0,
  "metadata": {
    "colab": {
      "provenance": [],
      "authorship_tag": "ABX9TyM73nqnfRw8ORA7x8yaKnJS",
      "include_colab_link": true
    },
    "kernelspec": {
      "name": "python3",
      "display_name": "Python 3"
    },
    "language_info": {
      "name": "python"
    }
  },
  "cells": [
    {
      "cell_type": "markdown",
      "metadata": {
        "id": "view-in-github",
        "colab_type": "text"
      },
      "source": [
        "<a href=\"https://colab.research.google.com/github/birthou/Python-Programming-Essentials/blob/main/Assignment3.ipynb\" target=\"_parent\"><img src=\"https://colab.research.google.com/assets/colab-badge.svg\" alt=\"Open In Colab\"/></a>"
      ]
    },
    {
      "cell_type": "markdown",
      "source": [
        "# **Write a Python program to reverse a string**\n",
        "\n",
        "# Sample String : \"LetsUpgrade\"\n",
        "\n",
        "# Expected Output : \"edargpUsteL\""
      ],
      "metadata": {
        "id": "f-FdRcNYyF1g"
      }
    },
    {
      "cell_type": "markdown",
      "source": [
        "there are different ways to invert a string in python like for example: \n",
        "- using a loop (Time complexity: O(n) \n",
        "Auxiliary space : O(1) )\n",
        "- using recursion ( Time complexity : O(n) \n",
        "Auxiliary space : O(n) )\n",
        "- by using the stack ( Time complexity : O(n) \n",
        "Auxiliary space : O(n) )\n",
        "- using an extended slice ( Time complexity : O(n) \n",
        "Auxiliary Space : O(1) )\n",
        "- using the reversed() method ( Time complexity : O(n) \n",
        "Auxiliary space : O(1) )\n",
        "- by using the list comprehension() ( Time complexity : O(n)\n",
        "Auxiliary space : O(1) )"
      ],
      "metadata": {
        "id": "i7PCVjA10sZe"
      }
    },
    {
      "cell_type": "markdown",
      "source": [
        "**my choice is for:**\n",
        "\n",
        "The reversed() returns the reversed iterator of the given string and then its elements are joined empty string separated using join(). And reversed order string is formed. \n",
        "\n",
        "Time complexity: O(n) \n",
        "Auxiliary Space: O(1) "
      ],
      "metadata": {
        "id": "zAaN0M8ryrmX"
      }
    },
    {
      "cell_type": "code",
      "execution_count": 1,
      "metadata": {
        "colab": {
          "base_uri": "https://localhost:8080/"
        },
        "id": "HkLxuK9qyBIa",
        "outputId": "afc9d312-e5d0-400c-baf3-a19c2c6790be"
      },
      "outputs": [
        {
          "output_type": "stream",
          "name": "stdout",
          "text": [
            "the original word is : LetsUpgrade\n",
            "The reversed word is : edargpUsteL\n"
          ]
        }
      ],
      "source": [
        "# Python code to reverse a string\n",
        "# using reversed()\n",
        "  \n",
        "# Function to reverse a string\n",
        "def reverse(string):\n",
        "    string = \"\".join(reversed(string))\n",
        "    return string\n",
        "  \n",
        "s = \"LetsUpgrade\"\n",
        "  \n",
        "print(\"the original word is : \", end=\"\")\n",
        "print(s)\n",
        "  \n",
        "print(\"The reversed word is : \", end=\"\")\n",
        "print(reverse(s))"
      ]
    }
  ]
}
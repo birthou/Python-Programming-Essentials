{
  "nbformat": 4,
  "nbformat_minor": 0,
  "metadata": {
    "colab": {
      "provenance": [],
      "authorship_tag": "ABX9TyNpZ5JQWQNza6/KLQuuU73a",
      "include_colab_link": true
    },
    "kernelspec": {
      "name": "python3",
      "display_name": "Python 3"
    },
    "language_info": {
      "name": "python"
    }
  },
  "cells": [
    {
      "cell_type": "markdown",
      "metadata": {
        "id": "view-in-github",
        "colab_type": "text"
      },
      "source": [
        "<a href=\"https://colab.research.google.com/github/birthou/Python-Programming-Essentials/blob/main/Assignment_3.ipynb\" target=\"_parent\"><img src=\"https://colab.research.google.com/assets/colab-badge.svg\" alt=\"Open In Colab\"/></a>"
      ]
    },
    {
      "cell_type": "markdown",
      "source": [
        "# **Building Candy Crush using Python (only logic of the game not UI)**"
      ],
      "metadata": {
        "id": "2Xj6K0rH2cWC"
      }
    },
    {
      "cell_type": "code",
      "execution_count": null,
      "metadata": {
        "id": "U83Ok4kQ2WhW"
      },
      "outputs": [],
      "source": [
        "def initializegrid(board) :\n",
        "  colors = ['Red', 'Purple', 'Yellow', 'Blue', 'Orange', 'Green']\n",
        "  board = colors * 25\n",
        "    for i in range(8) :\n",
        "        for j in range(8) :\n",
        "            board[i][j] = choice(['q', \"r\", \"s\", 'u', \"t\"])\n",
        "\n",
        " \n",
        "def initialize(board) :\n",
        "    initializegrid(board)\n",
        "    global score\n",
        "    score = 0\n",
        "    global turn\n",
        "    turn = 1\n",
        " \n",
        "def continuegame(current_score, goal_core = 100) :\n",
        "    if (current_score >= goal_score):\n",
        "        return False\n",
        "    else:\n",
        "        return True\n",
        "def drawboard(board):\n",
        "    linetodraw=\"\"\n",
        "    print(\"\\n\\n\\n\")\n",
        "    print(\"----------------------------------\")\n",
        "    for i in range(7,-1,-1):\n",
        "        linetodraw=\"\"\n",
        "        for j in range(8):\n",
        "            linetodraw += \" | \" + board[i][j]\n",
        "        linetodraw+= \" |\"\n",
        "        print(\"line to draw\")\n",
        "        print(\"----------------------------------\")\n",
        "def getmove():\n",
        "    print(\"getting move\")\n",
        "    return\"blu\"\n",
        "def Update(board, move):\n",
        "    print(\"updating board\")\n",
        "def doround(board):\n",
        "    drawboard(board)\n",
        "    move = getmove()\n",
        "    Update(board, move)\n",
        "    global turn\n",
        "    turn += 1\n",
        "score = 100\n",
        "turn = 100\n",
        "goalscore = 100\n",
        "board = [[0, 0, 0, 0, 0, 0, 0, 0],\n",
        "         [0, 0, 0, 0, 0, 0, 0, 0],\n",
        "         [0, 0, 0, 0, 0, 0, 0, 0],\n",
        "         [0, 0, 0, 0, 0, 0, 0, 0],\n",
        "         [0, 0, 0, 0, 0, 0, 0, 0],\n",
        "         [0, 0, 0, 0, 0, 0, 0, 0],\n",
        "         [0, 0, 0, 0, 0, 0, 0, 0],\n",
        "         [0, 0, 0, 0, 0, 0, 0, 0]]\n",
        "def initializegrid(board) :\n",
        "    print(\"initializing grid\")\n",
        "def drawboard(board) :\n",
        "    print(\"drawing board\")\n",
        " \n",
        " \n",
        " \n",
        "def doround() :\n",
        "    print(\"hello\")\n",
        "for i in range(100):\n",
        "    i+=1\n",
        "    print(i)"
      ]
    }
  ]
}